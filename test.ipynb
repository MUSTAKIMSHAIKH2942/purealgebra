{
 "cells": [
  {
   "cell_type": "code",
   "execution_count": 1,
   "id": "30f90d15",
   "metadata": {},
   "outputs": [
    {
     "name": "stdout",
     "output_type": "stream",
     "text": [
      "30\n"
     ]
    }
   ],
   "source": [
    "import purealgebra\n",
    "a =10\n",
    "b = 20\n",
    "# Use functions/classes from your package, e.g.\n",
    "result = purealgebra.add(a,b)\n",
    "print(result)\n"
   ]
  },
  {
   "cell_type": "code",
   "execution_count": 2,
   "id": "10ae67c9",
   "metadata": {},
   "outputs": [
    {
     "name": "stdout",
     "output_type": "stream",
     "text": [
      "-10\n"
     ]
    }
   ],
   "source": [
    "\n",
    "# Use functions/classes from your package, e.g.\n",
    "result = purealgebra.subtract(a,b)\n",
    "print(result)\n"
   ]
  },
  {
   "cell_type": "code",
   "execution_count": 4,
   "id": "daced04a",
   "metadata": {},
   "outputs": [
    {
     "name": "stdout",
     "output_type": "stream",
     "text": [
      "Original matrix: [[1, 2, 3], [4, 5, 6]]\n",
      "Transpose: [[1, 4], [2, 5], [3, 6]]\n",
      "Dot product: 32\n",
      "Matrix multiply: [[19, 22], [43, 50]]\n",
      "Determinant 2x2: 14\n",
      "Determinant 3x3: -306\n",
      "Inverse 2x2: [[0.6, -0.7], [-0.2, 0.4]]\n"
     ]
    }
   ],
   "source": [
    "import purealgebra as pa\n",
    "\n",
    "def test_all():\n",
    "    # Test transpose\n",
    "    mat = [[1, 2, 3],\n",
    "           [4, 5, 6]]\n",
    "    print(\"Original matrix:\", mat)\n",
    "    print(\"Transpose:\", pa.transpose(mat))\n",
    "    # Expected: [[1,4],[2,5],[3,6]]\n",
    "\n",
    "    # Test dot_product\n",
    "    v1 = [1, 2, 3]\n",
    "    v2 = [4, 5, 6]\n",
    "    print(\"Dot product:\", pa.dot_product(v1, v2))  \n",
    "    # Expected: 1*4 + 2*5 + 3*6 = 32\n",
    "\n",
    "    # Test matrix_multiply\n",
    "    A = [[1, 2],\n",
    "         [3, 4]]\n",
    "    B = [[5, 6],\n",
    "         [7, 8]]\n",
    "    print(\"Matrix multiply:\", pa.matrix_multiply(A, B))\n",
    "    # Expected: [[1*5+2*7, 1*6+2*8], [3*5+4*7, 3*6+4*8]] = [[19,22],[43,50]]\n",
    "\n",
    "    # Test determinant 2x2\n",
    "    det2 = [[4, 6],\n",
    "            [3, 8]]\n",
    "    print(\"Determinant 2x2:\", pa.determinant(det2))\n",
    "    # Expected: 4*8 - 6*3 = 14\n",
    "\n",
    "    # Test determinant 3x3\n",
    "    det3 = [[6,1,1],\n",
    "            [4,-2,5],\n",
    "            [2,8,7]]\n",
    "    print(\"Determinant 3x3:\", pa.determinant(det3))\n",
    "    # Expected: 6((-2*7)-(5*8)) - 1((4*7)-(5*2)) + 1((4*8)-(-2*2)) = 6(-14-40) -1(28-10) + 1(32+4) = 6(-54)-18+36 = -324-18+36 = -306\n",
    "\n",
    "    # Test inverse_2x2\n",
    "    inv = pa.inverse_2x2([[4, 7],\n",
    "                       [2, 6]])\n",
    "    print(\"Inverse 2x2:\", inv)\n",
    "    # Expected inverse matrix of [[4,7],[2,6]]\n",
    "\n",
    "try:\n",
    "    test_all()\n",
    "except Exception as e:\n",
    "    print(\"Error:\", e)\n"
   ]
  }
 ],
 "metadata": {
  "kernelspec": {
   "display_name": "Python 3",
   "language": "python",
   "name": "python3"
  },
  "language_info": {
   "codemirror_mode": {
    "name": "ipython",
    "version": 3
   },
   "file_extension": ".py",
   "mimetype": "text/x-python",
   "name": "python",
   "nbconvert_exporter": "python",
   "pygments_lexer": "ipython3",
   "version": "3.10.9"
  }
 },
 "nbformat": 4,
 "nbformat_minor": 5
}
